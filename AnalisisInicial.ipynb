{
 "cells": [
  {
   "cell_type": "markdown",
   "metadata": {},
   "source": [
    "## Analisis inicial de los datos "
   ]
  },
  {
   "cell_type": "markdown",
   "metadata": {},
   "source": [
    "### Requerimientos a analizar:"
   ]
  },
  {
   "cell_type": "markdown",
   "metadata": {},
   "source": [
    "1. ¿Existe alguna relación proporcional entre el diagnóstico de enfermedades mentales o del comportamiento y el nivel educativo alcanzado por cada persona del hogar?\n",
    "2. ¿Existe alguna relación entre las distintas formas de afrontar un problema de salud y el nivel educativo alcanzado por cada persona del hogar? u otra opción ¿Es más común el uso de remedios caseros y otras opciones distintas a un servicio médico en un nivel educativo menor?"
   ]
  },
  {
   "cell_type": "markdown",
   "metadata": {},
   "source": [
    "Para el primer requerimiento, se utilizaran las variables referentes al capitulo de educacion \"Capitulo H\" dentro del diccionario de datos (https://microdatos.dane.gov.co/index.php/catalog/743/data-dictionary/F51?file_name=Educacion%20(Cap%C3%ADtulo%20H) ) y tentativamente algunas de las variables referentes a Salud \"capitulo F\" dentro del diccionario de datos ( https://microdatos.dane.gov.co/index.php/catalog/743/data-dictionary/F49?file_name=Salud%20(Cap%C3%ADtulo%20F) )"
   ]
  },
  {
   "cell_type": "code",
   "execution_count": null,
   "metadata": {},
   "outputs": [],
   "source": []
  }
 ],
 "metadata": {
  "language_info": {
   "name": "python"
  }
 },
 "nbformat": 4,
 "nbformat_minor": 2
}
