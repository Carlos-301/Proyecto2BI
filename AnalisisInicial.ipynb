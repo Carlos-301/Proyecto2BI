{
 "cells": [
  {
   "cell_type": "markdown",
   "metadata": {},
   "source": [
    "## Analisis inicial de los datos "
   ]
  },
  {
   "cell_type": "markdown",
   "metadata": {},
   "source": [
    "### Requerimientos a analizar:"
   ]
  },
  {
   "cell_type": "markdown",
   "metadata": {},
   "source": [
    "1. ¿Existe alguna relación proporcional entre el diagnóstico de enfermedades mentales o del comportamiento y el nivel educativo alcanzado por cada persona del hogar?\n",
    "2. ¿Existe alguna relación entre las distintas formas de afrontar un problema de salud y el nivel educativo alcanzado por cada persona del hogar? u otra opción ¿Es más común el uso de remedios caseros y otras opciones distintas a un servicio médico en un nivel educativo menor?"
   ]
  },
  {
   "cell_type": "markdown",
   "metadata": {},
   "source": [
    "Para el primer requerimiento, se utilizaran las variables referentes al capitulo de educacion \"Capitulo H\" dentro del diccionario de datos (https://microdatos.dane.gov.co/index.php/catalog/743/data-dictionary/F51?file_name=Educacion%20(Cap%C3%ADtulo%20H) ) y tentativamente algunas de las variables referentes a Salud \"capitulo F\" dentro del diccionario de datos ( https://microdatos.dane.gov.co/index.php/catalog/743/data-dictionary/F49?file_name=Salud%20(Cap%C3%ADtulo%20F) )"
   ]
  },
  {
   "cell_type": "markdown",
   "metadata": {},
   "source": [
    "algunas variables interesantes para el requerimiento 1:\n",
    "¿Cuál es el nivel educativo más alto alcanzado por ... y el último año o grado aprobado en este nivel? (NPCHP4)\n",
    "¿A ...le han diagnosticado alguna de estas enfermedades o problemas de salud: 3. Enfermedades mentales o del comportamiento (depresión, ansiedad, esquizofrenia, trastorno bipolar, alzheimer)? (NPCFP14C)\n",
    "¿Cuál es el parentesco de ...con el o la jefe(a) de este hogar? (NPCEP6)\n",
    "Identificador numérico de encuesta. Asignado al momento de cargar la información (DIRECTORIO_PER)"
   ]
  },
  {
   "cell_type": "markdown",
   "metadata": {},
   "source": [
    " PAra el req 4 referente a salud bucal \n",
    " \n",
    " Identificador numérico de encuesta. Asignado al momento de cargar la información (DIRECTORIO_PER)\n",
    " ¿A ...le han diagnosticado alguna de estas enfermedades o problemas de salud: 9. Enfermedades de la boca, dientes o encías? (NPCFP14I)\n",
    "  Antes de descuentos (salud, ARL, pensión, retención), ¿cuánto ganó ...el MES PASADO en este empleo (incluya propinas y comisiones; y excluya viáticos y pagos en especie)? (NPCKP23)  \"asalariado\"\n",
    "\n",
    "  Valor (NPCKP31A) \"valor de subsidio familiar recibido\""
   ]
  },
  {
   "cell_type": "code",
   "execution_count": null,
   "metadata": {},
   "outputs": [],
   "source": []
  }
 ],
 "metadata": {
  "language_info": {
   "name": "python"
  }
 },
 "nbformat": 4,
 "nbformat_minor": 2
}
